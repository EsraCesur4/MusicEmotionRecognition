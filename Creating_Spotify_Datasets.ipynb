{
  "nbformat": 4,
  "nbformat_minor": 0,
  "metadata": {
    "colab": {
      "provenance": [],
      "gpuType": "T4",
      "authorship_tag": "ABX9TyNrm4NXecolvXX7QyAKr0yM",
      "include_colab_link": true
    },
    "kernelspec": {
      "name": "python3",
      "display_name": "Python 3"
    },
    "language_info": {
      "name": "python"
    },
    "accelerator": "GPU"
  },
  "cells": [
    {
      "cell_type": "markdown",
      "metadata": {
        "id": "view-in-github",
        "colab_type": "text"
      },
      "source": [
        "<a href=\"https://colab.research.google.com/github/EsraCesur4/MusicEmotionRecognition/blob/main/Creating_Spotify_Datasets.ipynb\" target=\"_parent\"><img src=\"https://colab.research.google.com/assets/colab-badge.svg\" alt=\"Open In Colab\"/></a>"
      ]
    },
    {
      "cell_type": "markdown",
      "source": [
        "# Using Spotipy library"
      ],
      "metadata": {
        "id": "pbR-rEdZm3Jh"
      }
    },
    {
      "cell_type": "markdown",
      "source": [
        "Spotipy is a lightweight Python library for the Spotify Web API. With Spotipy you get full access to all of the music data provided by the Spotify platform.\n",
        "- GitHub: https://github.com/spotipy-dev/spotipy\n",
        "- Documentation: https://spotipy.readthedocs.io/en/2.22.1/"
      ],
      "metadata": {
        "id": "7b3nuIvkoXcH"
      }
    },
    {
      "cell_type": "markdown",
      "source": [
        "Installing Spotipy:"
      ],
      "metadata": {
        "id": "eUfWgvePovvi"
      }
    },
    {
      "cell_type": "code",
      "execution_count": null,
      "metadata": {
        "colab": {
          "base_uri": "https://localhost:8080/"
        },
        "id": "wyyVv57RsoZp",
        "outputId": "f41d3f95-31df-4f1a-f74c-770596019c73"
      },
      "outputs": [
        {
          "output_type": "stream",
          "name": "stdout",
          "text": [
            "Collecting spotipy\n",
            "  Downloading spotipy-2.23.0-py3-none-any.whl (29 kB)\n",
            "Collecting redis>=3.5.3 (from spotipy)\n",
            "  Downloading redis-5.0.2-py3-none-any.whl (251 kB)\n",
            "\u001b[2K     \u001b[90m━━━━━━━━━━━━━━━━━━━━━━━━━━━━━━━━━━━━━━━━\u001b[0m \u001b[32m251.7/251.7 kB\u001b[0m \u001b[31m7.4 MB/s\u001b[0m eta \u001b[36m0:00:00\u001b[0m\n",
            "\u001b[?25hRequirement already satisfied: requests>=2.25.0 in /usr/local/lib/python3.10/dist-packages (from spotipy) (2.31.0)\n",
            "Requirement already satisfied: six>=1.15.0 in /usr/local/lib/python3.10/dist-packages (from spotipy) (1.16.0)\n",
            "Requirement already satisfied: urllib3>=1.26.0 in /usr/local/lib/python3.10/dist-packages (from spotipy) (2.0.7)\n",
            "Requirement already satisfied: async-timeout>=4.0.3 in /usr/local/lib/python3.10/dist-packages (from redis>=3.5.3->spotipy) (4.0.3)\n",
            "Requirement already satisfied: charset-normalizer<4,>=2 in /usr/local/lib/python3.10/dist-packages (from requests>=2.25.0->spotipy) (3.3.2)\n",
            "Requirement already satisfied: idna<4,>=2.5 in /usr/local/lib/python3.10/dist-packages (from requests>=2.25.0->spotipy) (3.6)\n",
            "Requirement already satisfied: certifi>=2017.4.17 in /usr/local/lib/python3.10/dist-packages (from requests>=2.25.0->spotipy) (2024.2.2)\n",
            "Installing collected packages: redis, spotipy\n",
            "Successfully installed redis-5.0.2 spotipy-2.23.0\n"
          ]
        }
      ],
      "source": [
        "pip install spotipy"
      ]
    },
    {
      "cell_type": "markdown",
      "source": [
        "## Drawing Song Information from Spotify Playlists"
      ],
      "metadata": {
        "id": "Vssq5qHlo826"
      }
    },
    {
      "cell_type": "markdown",
      "source": [
        "Here we can collect track features from Spotify playlists for different moods (e.g., angry, chill, happy, sad)."
      ],
      "metadata": {
        "id": "0XSAIijg0TUR"
      }
    },
    {
      "cell_type": "code",
      "source": [
        "import spotipy\n",
        "from spotipy.oauth2 import SpotifyClientCredentials\n",
        "from spotipy import util\n",
        "import pandas as pd\n",
        "import math\n",
        "import pickle\n",
        "\n",
        "features_for_mood = ['energy', 'liveness', 'tempo', 'speechiness',\n",
        "                                     'acousticness', 'instrumentalness', 'danceability', 'duration_ms',\n",
        "                                     'loudness', 'valence']\n",
        "\n",
        "def get_track_features(track_ids, spotify):\n",
        "    chunk_size = 50\n",
        "    num_chunks = int(math.ceil(len(track_ids) / float(chunk_size)))\n",
        "    features_add = []\n",
        "    for i in range(num_chunks):\n",
        "        chunk_track_ids = track_ids[i * chunk_size:min((i + 1) * chunk_size, len(track_ids))]\n",
        "        chunk_features = spotify.audio_features(tracks=chunk_track_ids)\n",
        "        features_add.extend(chunk_features)\n",
        "\n",
        "    features_df = pd.DataFrame(features_add).drop(['id', 'analysis_url', 'key', 'mode', 'time_signature',\n",
        "                                                   'track_href', 'type', 'uri'], axis=1)\n",
        "    features_df = features_df[features_for_mood]\n",
        "    return features_df\n",
        "\n",
        "token = util.prompt_for_user_token(username='username', scope='user-library-read',\n",
        "                                                   client_id='clientid',\n",
        "                                                   client_secret='clientsecret',\n",
        "                                                   redirect_uri='http://localhost:5000')\n",
        "spotify = spotipy.Spotify(auth=token, requests_timeout=20)\n",
        "\n",
        "playlists = {\n",
        "  'angry' : [\"https://open.spotify.com/playlist/37i9dQZF1EIgNZCaOGb0Mi?si=73bb7422787d46c1\",\"https://open.spotify.com/playlist/37i9dQZF1EIcRK7JMCMZ3M?si=7498be7659024b5c\"],\n",
        "  'chill':    [\"https://open.spotify.com/playlist/37i9dQZF1EVHGWrwldPRtj?si=50368e58043a4b7a\",\"https://open.spotify.com/playlist/37i9dQZF1DX889U0CL85jj?si=aea9ecbcd9a7438b\",],\n",
        "  'happy':        [\"https://open.spotify.com/playlist/7GhawGpb43Ctkq3PRP1fOL?si=0625e7c7914a4494\",\"https://open.spotify.com/playlist/37i9dQZF1DXdPec7aLTmlC?si=714e88d0c5ec44ab\",],\n",
        "  'sad':  [\"https://open.spotify.com/playlist/4yXfnhz0BReoVfwwYRtPBm?si=5f06cc8d9a884862\",\"https://open.spotify.com/playlist/2Rvp6wYxx8Mznr35SsLLB8?si=37b65ab180304bec\",]\n",
        "}\n",
        "\n",
        "tracks = pd.DataFrame()\n",
        "moods = []\n",
        "\n",
        "for mood, links in playlists.items():\n",
        "    print (mood)\n",
        "    for link in links:\n",
        "        id = link[34:56]\n",
        "        try:\n",
        "            pl_tracks = spotify.playlist_tracks(id)['items']\n",
        "            ids = [foo['track']['id'] for foo in pl_tracks]\n",
        "        except:\n",
        "            print (link)\n",
        "            continue\n",
        "        features = get_track_features(ids, spotify)\n",
        "        features['id'] = ids\n",
        "        features['mood'] = mood\n",
        "        tracks = tracks.append(features)\n",
        "\n",
        "tracks.to_csv('tracks.csv')"
      ],
      "metadata": {
        "id": "e6R7TNWmspav"
      },
      "execution_count": null,
      "outputs": []
    }
  ]
}